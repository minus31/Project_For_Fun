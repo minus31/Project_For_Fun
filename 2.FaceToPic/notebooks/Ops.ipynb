{
 "cells": [
  {
   "cell_type": "code",
   "execution_count": 1,
   "metadata": {
    "ExecuteTime": {
     "end_time": "2018-08-08T10:36:34.896545Z",
     "start_time": "2018-08-08T10:36:28.943235Z"
    }
   },
   "outputs": [
    {
     "name": "stderr",
     "output_type": "stream",
     "text": [
      "/Users/MAC/.pyenv/versions/anaconda3-5.0.1/envs/python_ana/lib/python3.6/site-packages/h5py/__init__.py:36: FutureWarning: Conversion of the second argument of issubdtype from `float` to `np.floating` is deprecated. In future, it will be treated as `np.float64 == np.dtype(float).type`.\n",
      "  from ._conv import register_converters as _register_converters\n"
     ]
    }
   ],
   "source": [
    "import math\n",
    "import numpy as np\n",
    "import tensorflow as tf\n",
    "## Slim is an interface to contrib functions, examples and models.\n",
    "import tensorflow.contrib.slim as slim\n",
    "from tensorflow.python.framework import ops"
   ]
  },
  {
   "cell_type": "code",
   "execution_count": 9,
   "metadata": {
    "ExecuteTime": {
     "end_time": "2018-08-06T04:44:55.717454Z",
     "start_time": "2018-08-06T04:44:55.597492Z"
    },
    "code_folding": [
     56,
     84
    ]
   },
   "outputs": [],
   "source": [
    "def batch_normalization(x, name=\"Batch_normalization\"):\n",
    "    return tf.contrib.layers.batch_norm(\n",
    "    x,\n",
    "    decay=0.999,\n",
    "    center=True,\n",
    "    scale=True,\n",
    "    epsilon=0.001,\n",
    "    activation_fn=None,\n",
    "    param_initializers=None,\n",
    "    param_regularizers=None,\n",
    "    updates_collections=None,\n",
    "    is_training=True,\n",
    "    reuse=None,\n",
    "    variables_collections=None,\n",
    "    outputs_collections=None,\n",
    "    trainable=True,\n",
    "    batch_weights=None,\n",
    "    fused=None,\n",
    "    data_format=DATA_FORMAT_NHWC,\n",
    "    zero_debias_moving_mean=False,\n",
    "    scope=name,\n",
    "    renorm=False,\n",
    "    renorm_clipping=None,\n",
    "    renorm_decay=0.99,\n",
    "    adjustment=None)\n",
    "\n",
    "def instance_norm(x, name=\"instance_norm\"):\n",
    "    \"\"\"\n",
    "    instance normalization \n",
    "    paper's link = https://arxiv.org/pdf/1607.08022.pdf\n",
    "    'it increases style transfering models' perfomance' \n",
    "    \"\"\"\n",
    "    with tf.variable_scope(name):\n",
    "        depth = x.get_shape()[3]\n",
    "        # two learnable parameters : scale, offset \n",
    "        scale = tf.get_variable(\"scale\", [depth], initializer=tf.random_normal_initializer(1.0, 0.02, dtype=tf.float32))\n",
    "        offset = tf.get_variable(\"offset\", [depth], initializer=tf.constant_initializer(0.0))\n",
    "        mean, variance = tf.nn.moments(x, axes=[1,2], keep_dims=True)\n",
    "        epsilon = 1e-5\n",
    "        inv = tf.rsqrt(variance + epsilon)\n",
    "        normalized = (x-mean)*inv\n",
    "        return scale*normalized + offset\n",
    "    \n",
    "def conv2d(input_, output_dim, kernel_size=4, stride=2, stddev=0.02, padding='SAME', name=\"conv2d\"):\n",
    "    \"\"\" generating conv2d layer\n",
    "    \n",
    "    args :\n",
    "    input_ : input \n",
    "    output_dim : output_dim\n",
    "    kernel_size : 4\n",
    "    stride : 2 \n",
    "    stddev : tf.truncated_normal_initializer(stddev=stddev)\n",
    "    padding : SAME\n",
    "    name : conv2d\n",
    "    \n",
    "    return :\n",
    "    slim.conv2d(input_, output_dim, kernel_size, stride, padding=padding, activation_fn=None,\n",
    "                            weights_initializer=tf.truncated_normal_initializer(stddev=stddev),\n",
    "                            biases_initializer=None)\n",
    "\n",
    "    \"\"\"\n",
    "    with tf.variable_scope(name):\n",
    "        return slim.conv2d(input_, output_dim, kernel_size=kernel_size, stride=stride, \n",
    "                           padding=padding, activation_fn=None,\n",
    "                            weights_initializer=tf.truncated_normal_initializer(stddev=stddev),\n",
    "                            biases_initializer=None\n",
    "\n",
    "def deconv2d(input_, output_dim, ks=4, s=2, stddev=0.02, name=\"deconv2d\"):\n",
    "    \"\"\" generating conv2d_transpose layer\n",
    "    \n",
    "    args :\n",
    "    input_ : input \n",
    "    output_dim : output_dim\n",
    "    kernel_size : 4\n",
    "    stride : 2 \n",
    "    stddev : tf.truncated_normal_initializer(stddev=stddev)\n",
    "    name : deconv2d\n",
    "    \n",
    "    return :\n",
    "    slim.conv2d_transpose(input_, output_dim, ks, s, padding=\"SAME\", activation_fn=None,\n",
    "                                    weights_initializer=tr.truncated_normal_initializer(stddev=stddev),\n",
    "                                    biases_initializer=None)\n",
    "    \"\"\"\n",
    "    with tf.variable_scope(name):\n",
    "        return slim.conv2d_transpose(input_, output_dim, ks, s, padding=\"SAME\", activation_fn=None,\n",
    "                                    weights_initializer=tr.truncated_normal_initializer(stddev=stddev),\n",
    "                                    biases_initializer=None)\n",
    "    \n",
    "def lrelu(x, leaky=0.2, name=\"leaky_relu\"):\n",
    "    return tf.maximum(x, leaky * x)\n",
    "\n",
    "def linear(input_, output_size, scope=None, stddev=0.02, bias_start=0.0, with_w=False):\n",
    "    \n",
    "    with tf.variable_scope(scope or \"Linear\"):\n",
    "        \n",
    "        matrix = tf.get_variable(\"Matrix\", [input_.get_shape()[-1], output_size], tf.float32,\n",
    "                                tf.random_normal_initializer(stddev=stddev))\n",
    "        bias = tf.get_variable(\"bias\", [output_size],\n",
    "                                  initializer=tf.constant_initializer(bias_start))\n",
    "        \n",
    "        if with_w :\n",
    "            return tf.matmul(input_, matrix) + bias, matrix, bias\n",
    "        else:\n",
    "            return tf.matmul(input_, matrix) + bias\n",
    "        \n"
   ]
  },
  {
   "cell_type": "code",
   "execution_count": null,
   "metadata": {},
   "outputs": [],
   "source": []
  }
 ],
 "metadata": {
  "kernelspec": {
   "display_name": "Python 3",
   "language": "python",
   "name": "python3"
  },
  "language_info": {
   "codemirror_mode": {
    "name": "ipython",
    "version": 3
   },
   "file_extension": ".py",
   "mimetype": "text/x-python",
   "name": "python",
   "nbconvert_exporter": "python",
   "pygments_lexer": "ipython3",
   "version": "3.6.4"
  },
  "latex_envs": {
   "LaTeX_envs_menu_present": true,
   "autoclose": false,
   "autocomplete": true,
   "bibliofile": "biblio.bib",
   "cite_by": "apalike",
   "current_citInitial": 1,
   "eqLabelWithNumbers": true,
   "eqNumInitial": 1,
   "hotkeys": {
    "equation": "Ctrl-E",
    "itemize": "Ctrl-I"
   },
   "labels_anchors": false,
   "latex_user_defs": false,
   "report_style_numbering": false,
   "user_envs_cfg": false
  },
  "toc": {
   "base_numbering": 1,
   "nav_menu": {},
   "number_sections": true,
   "sideBar": true,
   "skip_h1_title": false,
   "title_cell": "Table of Contents",
   "title_sidebar": "Contents",
   "toc_cell": false,
   "toc_position": {},
   "toc_section_display": true,
   "toc_window_display": false
  }
 },
 "nbformat": 4,
 "nbformat_minor": 2
}
