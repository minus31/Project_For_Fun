{
 "cells": [
  {
   "cell_type": "code",
   "execution_count": 14,
   "metadata": {
    "ExecuteTime": {
     "end_time": "2018-08-17T12:17:51.968818Z",
     "start_time": "2018-08-17T12:17:51.951901Z"
    }
   },
   "outputs": [],
   "source": [
    "import numpy as np \n",
    "import pandas as pd\n",
    "import matplotlib.pyplot as plt\n",
    "import cv2\n",
    "import glob\n",
    "import pickle \n",
    "import tensorflow as tf \n",
    "import time\n",
    "import os \n",
    "from IPython.display import display \n",
    "pd.options.display.max_columns = None\n",
    "pd.options.display.max_rows = None\n",
    "%matplotlib inline\n",
    "%config  InlineBackend.figure_formats = {'png', 'retina'}\n",
    "sns.set_style(\"white\")"
   ]
  },
  {
   "cell_type": "markdown",
   "metadata": {
    "ExecuteTime": {
     "end_time": "2018-08-17T09:01:58.710641Z",
     "start_time": "2018-08-17T09:01:58.706945Z"
    }
   },
   "source": [
    "# Face To Pictogram\n",
    "\n",
    "\n",
    "\n",
    "<img src=\"\">\n",
    "\n"
   ]
  },
  {
   "cell_type": "markdown",
   "metadata": {},
   "source": [
    "### Load tfrecord"
   ]
  },
  {
   "cell_type": "code",
   "execution_count": 2,
   "metadata": {
    "ExecuteTime": {
     "end_time": "2018-08-17T12:04:32.040494Z",
     "start_time": "2018-08-17T12:04:31.184312Z"
    }
   },
   "outputs": [
    {
     "data": {
      "image/png": "[encoded data removed]",
      "text/plain": [
       "<matplotlib.figure.Figure at 0x1c2007bfd0>"
      ]
     },
     "metadata": {
      "image/png": {
       "height": 523,
       "width": 527
      }
     },
     "output_type": "display_data"
    }
   ],
   "source": [
    "pic_path = \"../Dataset/tfrecord/pictogram.tfrecord\"\n",
    "real_path = \"../Dataset/tfrecord/real_image.tfrecord\"\n",
    "\n",
    "pic_images = []\n",
    "pic_sexes = []\n",
    "real_images = []\n",
    "real_sexes = []\n",
    "\n",
    "real_record_iterator = tf.python_io.tf_record_iterator(path=real_path)\n",
    "pic_record_iterator = tf.python_io.tf_record_iterator(path=pic_path)\n",
    "\n",
    "\n",
    "for str_real_record, str_pic_record in zip(real_record_iterator, pic_record_iterator):\n",
    "    example_real = tf.train.Example()\n",
    "    example_real.ParseFromString(str_real_record)\n",
    "    \n",
    "    height = int(example_real.features.feature['height']\n",
    "                                 .int64_list\n",
    "                                 .value[0])\n",
    "    \n",
    "    width = int(example_real.features.feature['width']\n",
    "                                .int64_list\n",
    "                                .value[0])\n",
    "    \n",
    "    img_string = (example_real.features.feature['gray_img_bytes']\n",
    "                                  .bytes_list\n",
    "                                  .value[0])\n",
    "    \n",
    "    sex = float(example_real.features.feature['sex']\n",
    "                                .float_list\n",
    "                                .value[0])\n",
    "    \n",
    "    img_1d = np.frombuffer(img_string, dtype=np.uint8)\n",
    "    reconstructed_img = img_1d.reshape((height, width, -1))\n",
    "    # 마지막 axis에 7개의 0이 추가 된다. \n",
    "    reconstructed_img = np.amax(reconstructed_img, axis=-1)\n",
    "\n",
    "    real_images.append(reconstructed_img)\n",
    "    real_sexes.append(sex)\n",
    "    \n",
    "    example_pic = tf.train.Example()\n",
    "    example_pic.ParseFromString(str_pic_record)\n",
    "    \n",
    "    height = int(example_pic.features.feature['height']\n",
    "                                 .int64_list\n",
    "                                 .value[0])\n",
    "    \n",
    "    width = int(example_pic.features.feature['width']\n",
    "                                .int64_list\n",
    "                                .value[0])\n",
    "    \n",
    "    img_string = (example_pic.features.feature['gray_img_bytes']\n",
    "                                  .bytes_list\n",
    "                                  .value[0])\n",
    "    \n",
    "    sex = float(example_pic.features.feature['sex']\n",
    "                                .float_list\n",
    "                                .value[0])\n",
    "    \n",
    "    img_1d = np.frombuffer(img_string, dtype=np.uint8)\n",
    "    reconstructed_img = img_1d.reshape((height, width, -1))\n",
    "    # 마지막 axis에 7개의 0이 추가 된다. \n",
    "    reconstructed_img = np.amax(reconstructed_img, axis=-1)\n",
    "\n",
    "    pic_images.append(reconstructed_img)\n",
    "    pic_sexes.append(sex)\n",
    "    \n",
    "\n",
    "       \n",
    "plt.figure(figsize=(9,9))\n",
    "plt.axis(\"off\")\n",
    "plt.imshow(reconstructed_img, cmap=\"gray\")\n",
    "plt.show()"
   ]
  },
  {
   "cell_type": "code",
   "execution_count": 3,
   "metadata": {
    "ExecuteTime": {
     "end_time": "2018-08-17T12:04:32.048096Z",
     "start_time": "2018-08-17T12:04:32.042519Z"
    }
   },
   "outputs": [],
   "source": [
    "pic_images = np.array(pic_images).reshape(-1, height, width, 1)\n",
    "real_images = np.array(real_images).reshape(-1, height, width, 1)"
   ]
  },
  {
   "cell_type": "code",
   "execution_count": 4,
   "metadata": {
    "ExecuteTime": {
     "end_time": "2018-08-17T12:04:32.069338Z",
     "start_time": "2018-08-17T12:04:32.049531Z"
    }
   },
   "outputs": [
    {
     "data": {
      "text/plain": [
       "((34, 300, 300, 1), (34, 300, 300, 1))"
      ]
     },
     "execution_count": 4,
     "metadata": {},
     "output_type": "execute_result"
    }
   ],
   "source": [
    "pic_images =  pic_images.astype(np.float32)\n",
    "real_images = real_images.astype(np.float32)\n",
    "pic_images.shape, real_images.shape"
   ]
  },
  {
   "cell_type": "code",
   "execution_count": null,
   "metadata": {
    "ExecuteTime": {
     "end_time": "2018-08-17T11:01:48.174200Z",
     "start_time": "2018-08-17T11:01:48.170042Z"
    }
   },
   "outputs": [],
   "source": []
  },
  {
   "cell_type": "code",
   "execution_count": 5,
   "metadata": {
    "ExecuteTime": {
     "end_time": "2018-08-17T12:04:37.179494Z",
     "start_time": "2018-08-17T12:04:32.071328Z"
    }
   },
   "outputs": [],
   "source": [
    "import math\n",
    "import tensorflow.contrib.slim as slim\n",
    "from tensorflow.python.framework import ops"
   ]
  },
  {
   "cell_type": "code",
   "execution_count": 6,
   "metadata": {
    "ExecuteTime": {
     "end_time": "2018-08-17T12:04:37.211404Z",
     "start_time": "2018-08-17T12:04:37.181417Z"
    }
   },
   "outputs": [],
   "source": [
    "# powerful normalization method for style trasfering problem, which normaaly has few dataset \n",
    "def instance_norm(x, name=\"instance_norm\"):\n",
    "    \"\"\"\n",
    "    instance normalization \n",
    "    paper's link = https://arxiv.org/pdf/1607.08022.pdf\n",
    "    'it increases style transfering models' perfomance' \n",
    "    \"\"\"\n",
    "    with tf.variable_scope(name):\n",
    "        depth = x.get_shape()[3]\n",
    "        # two learnable parameters : scale, offset \n",
    "        scale = tf.get_variable(\"scale\", [depth], initializer=tf.random_normal_initializer(1.0, 0.02, dtype=tf.float32))\n",
    "        offset = tf.get_variable(\"offset\", [depth], initializer=tf.constant_initializer(0.0))\n",
    "        mean, variance = tf.nn.moments(x, axes=[1,2], keep_dims=True)\n",
    "        epsilon = 1e-5\n",
    "        inv = tf.rsqrt(variance + epsilon)\n",
    "        normalized = (x-mean)*inv\n",
    "        return scale*normalized + offset\n",
    "# conv2d \n",
    "def conv2d(input_, output_dim=8, kernel_size=5, stride=1, stddev=0.02, padding='SAME', name=\"conv2d\"):\n",
    "    \"\"\" generating conv2d layer\n",
    "    \n",
    "    args :\n",
    "    input_ : input \n",
    "    output_dim : output_dim\n",
    "    kernel_size : 4\n",
    "    stride : 2 \n",
    "    stddev : tf.truncated_normal_initializer(stddev=stddev)\n",
    "    padding : SAME\n",
    "    name : conv2d\n",
    "    \n",
    "    return :\n",
    "    slim.conv2d(input_, output_dim, kernel_size, stride, padding=padding, activation_fn=None,\n",
    "                            weights_initializer=tf.truncated_normal_initializer(stddev=stddev),\n",
    "                            biases_initializer=None)\n",
    "\n",
    "    \"\"\"\n",
    "    with tf.variable_scope(name):\n",
    "        return slim.conv2d(input_, output_dim, kernel_size=kernel_size, stride=stride, \n",
    "                           padding=padding, activation_fn=None,\n",
    "                            weights_initializer=tf.truncated_normal_initializer(stddev=stddev),\n",
    "                            biases_initializer=None)\n",
    "\n",
    "#leaky relu    \n",
    "def lrelu(x, leaky=0.2, name=\"leaky_relu\"):\n",
    "    \n",
    "    return tf.maximum(x, leaky * x)\n"
   ]
  },
  {
   "cell_type": "markdown",
   "metadata": {},
   "source": [
    "#### Discriminator & Generator \n",
    "\n",
    "##### Discriminator \n",
    "\n",
    "\n",
    "- Q1. why discriminator's output is 32x32x1 \n",
    "> I thought discriminator has a role of discriminating fake or real with 0, 1 each.\n",
    "> is it technic ? \n",
    "\n",
    ">> **This Answer was writen on the paper**\n",
    ">> - by implementing, reserchers dose Johnson 's Residual architecture which is known as very productive on style transfering problem for generator, and use **PatchGAN**'s discriminator \n",
    "\n",
    "\n",
    "###### PatchGAN research \n",
    "\n",
    " > blah blah\n",
    " \n",
    "##### Discriminator \n",
    "\n",
    "- In the paper, Generator is **Johnson's model** which have shown imporessive results for neural style transfer and superresolution\n",
    "> but my target image is quite simple form, So I create the generator with DenseNet architecture for reducing operation and the number of parameters. "
   ]
  },
  {
   "cell_type": "code",
   "execution_count": 7,
   "metadata": {
    "ExecuteTime": {
     "end_time": "2018-08-17T12:04:37.364338Z",
     "start_time": "2018-08-17T12:04:37.213319Z"
    }
   },
   "outputs": [],
   "source": [
    "def discriminator(image, output_dim=8, reuse=False, name=\"discriminator\"):\n",
    "    with tf.variable_scope(name):\n",
    "        if reuse:\n",
    "            tf.get_variable_scope().reuse_variables()\n",
    "        else :\n",
    "            assert tf.get_variable_scope().reuse is False\n",
    "\n",
    "        # h0 is (150 x 150 x self.df_dim)\n",
    "        h0 = lrelu(conv2d(image, output_dim, stride=2, name='dis_h0_conv'))\n",
    "        # h1 is (75 x 75 x self.df_dim*2)\n",
    "        h1 = lrelu(instance_norm(conv2d(h0, output_dim*2, stride=2, name='d_h1_conv'), 'd_in1'))\n",
    "        # h2 is (36 x 36 x self.df_dim*4)\n",
    "        h2 = lrelu(instance_norm(conv2d(h1, output_dim*4, stride=2, name='d_h2_conv'), 'd_in2'))\n",
    "        # h3 is (36 x 36 x self.df_dim*8)\n",
    "        h3 = lrelu(instance_norm(conv2d(h2, output_dim*8, name='d_h3_conv'), 'd_in3'))\n",
    "        # h4 is (36 x 36 x 1)\n",
    "        h4 = conv2d(h3, 1, name='d_h3_pred')\n",
    "\n",
    "        return h4\n",
    "\n",
    "    \n",
    "def generator_dense(image, reuse=False, name=\"generator\"):\n",
    "    with tf.variable_scope(name):\n",
    "        # image = 300x300x1\n",
    "        \n",
    "        if reuse:\n",
    "            tf.get_variable_scope().reuse_variables()\n",
    "        else:\n",
    "            assert tf.get_variable_scope().reuse is False\n",
    "            \n",
    "        def dense_block(x, growth_rate=8, num_layers_in_block=6, name=\"dense\"):\n",
    "            \n",
    "            for i in range(num_layers_in_block):    \n",
    "                y1 = instance_norm(conv2d(x, growth_rate*2, \n",
    "                                          kernel_size=1,\n",
    "                                          padding='SAME', \n",
    "                                          name=name+'_bot{}'.format(i)), name+'_in1{}'.format(i))\n",
    "                y2 = instance_norm(conv2d(y1, growth_rate, \n",
    "                                          kernel_size=3, \n",
    "                                          padding='SAME', \n",
    "                                          name=name+'_tle{}'.format(i)), name+'_in2{}'.format(i))\n",
    "\n",
    "                x = tf.concat([y2, x], -1)\n",
    "                \n",
    "            return x\n",
    "                \n",
    "                \n",
    "        dense_layer_1 = dense_block(image, name=\"dense_1\")\n",
    "        \n",
    "        # Maintaing Feature map size , Reduce # of channels  \n",
    "        transition_layer = instance_norm(conv2d(dense_layer_1, 1, \n",
    "                                          kernel_size=3, \n",
    "                                          padding='SAME', \n",
    "                                          name=name+'_transition1'), name+'_in1')\n",
    "        \n",
    "        dense_layer_2 = dense_block(transition_layer, name=\"dense_2\")\n",
    "        \n",
    "        \n",
    "        output_layer = instance_norm(conv2d(dense_layer_2, 1, \n",
    "                                          kernel_size=3, stride=1, \n",
    "                                          padding='SAME', \n",
    "                                          name=name+'_out'), name+'_in_out')\n",
    "        \n",
    "        \n",
    "        return output_layer\n",
    "    \n",
    "    \n",
    "# Loss functions     \n",
    "\n",
    "def abs_criterion(in_, target):\n",
    "    return tf.reduce_mean(tf.abs(in_ - target))\n",
    "\n",
    "\n",
    "def mse_criterion(in_, target):\n",
    "    return tf.reduce_mean((in_ - target)**2)\n",
    "\n",
    "\n",
    "def sce_criterion(logits, labels):\n",
    "    return tf.reduce_mean(tf.nn.sigmoid_cross_entropy_with_logits(logits=logits, labels=labels))\n"
   ]
  },
  {
   "cell_type": "code",
   "execution_count": 8,
   "metadata": {
    "ExecuteTime": {
     "end_time": "2018-08-17T12:04:40.534077Z",
     "start_time": "2018-08-17T12:04:37.366215Z"
    },
    "scrolled": false
   },
   "outputs": [],
   "source": [
    "# Model building \n",
    "L1_lambda = 10 # from paper\n",
    "height = 300 \n",
    "width = 300 \n",
    "\n",
    "# True image \n",
    "# face_pic_data = tf.placeholder(tf.float32, \n",
    "#                               [None, height, width, 2])\n",
    "\n",
    "# face = face_pic_data[:,:,:, 0]\n",
    "# pic = face_pic_data[:,:,:, 1]\n",
    "\n",
    "face = tf.placeholder(tf.float32, [None, height, width, 1])\n",
    "pic = tf.placeholder(tf.float32, [None, height, width, 1])\n",
    "\n",
    "# Fake image \n",
    "# Face -> pic -> Face'\n",
    "fake_pic = generator_dense(face, name=\"generator_Face2Pic\")\n",
    "fake_face_ = generator_dense(fake_pic, name=\"generator_Pic2Face\")\n",
    "# Pic -> Face -> Pic'\n",
    "fake_face = generator_dense(pic, reuse=True, name=\"generator_Pic2Face\")\n",
    "fake_pic_ = generator_dense(fake_face, reuse=True, name=\"generator_Face2Pic\")\n",
    "#############################################\n",
    "dis_pic_fake = discriminator(fake_pic, reuse=False, name='discriminator_Pic')\n",
    "dis_face_fake = discriminator(fake_face, reuse=False, name='discriminator_Face')\n",
    "\n",
    "gen_loss_Face2Pic = sce_criterion(dis_pic_fake, tf.ones_like(dis_pic_fake)) + L1_lambda * abs_criterion(face, fake_face_) + L1_lambda * abs_criterion(pic, fake_pic_) \n",
    "gen_loss_Pic2Face = sce_criterion(dis_face_fake, tf.ones_like(dis_face_fake)) + L1_lambda * abs_criterion(face, fake_face_) + L1_lambda * abs_criterion(pic, fake_pic_) \n",
    "gen_loss = sce_criterion(dis_pic_fake, tf.ones_like(dis_pic_fake)) + sce_criterion(dis_face_fake, tf.ones_like(dis_face_fake))+ L1_lambda * abs_criterion(face, fake_face_) + L1_lambda * abs_criterion(pic, fake_pic_)\n",
    "######################################################\n",
    "fake_face_sample = tf.placeholder(tf.float32, \n",
    "                                 [None, height, width, 1], name='fake_face') \n",
    "fake_pic_sample = tf.placeholder(tf.float32, \n",
    "                                 [None, height, width, 1], name='fake_pic') \n",
    "\n",
    "dis_pic_real = discriminator(pic, reuse=True, name='discriminator_Pic')\n",
    "dis_face_real = discriminator(face, reuse=True, name='discriminator_Face')\n",
    "\n",
    "dis_fake_face_sample = discriminator(fake_face_sample, reuse=True, name=\"discriminator_Face\") \n",
    "dis_fake_pic_sample = discriminator(fake_pic_sample, reuse=True, name=\"discriminator_Pic\")\n",
    "\n",
    "dis_pic_loss_real = sce_criterion(dis_pic_real, tf.ones_like(dis_pic_real))\n",
    "dis_pic_loss_fake = sce_criterion(dis_fake_pic_sample, tf.zeros_like(dis_fake_pic_sample))\n",
    "dis_pic_loss = (dis_pic_loss_fake + dis_pic_loss_real) / 2\n",
    "\n",
    "dis_face_loss_real = sce_criterion(dis_face_real, tf.ones_like(dis_face_real))\n",
    "dis_face_loss_fake = sce_criterion(dis_fake_face_sample, tf.zeros_like(dis_fake_face_sample))\n",
    "dis_face_loss = (dis_face_loss_fake + dis_face_loss_real) / 2\n",
    "\n",
    "##### \n",
    "dis_loss = dis_pic_loss + dis_face_loss\n",
    "\n",
    "## for summary \n",
    "\n",
    "####### Generator\n",
    "gen_loss_Face2Pic_summ = tf.summary.scalar(\"gen_loss_Face2Pic\", gen_loss_Face2Pic)\n",
    "gen_loss_Pic2Face_summ = tf.summary.scalar(\"gen_loss_Pic2Face\", gen_loss_Pic2Face)\n",
    "gen_loss_summ = tf.summary.scalar(\"gen_loss\", gen_loss)\n",
    "\n",
    "gen_summ = tf.summary.merge([gen_loss_Face2Pic_summ, gen_loss_Pic2Face_summ, gen_loss_summ])\n",
    "\n",
    "####### Discriminator\n",
    "dis_pic_loss_real_summ = tf.summary.scalar(\"dis_pic_loss_real\", dis_pic_loss_real)\n",
    "dis_pic_loss_fake_summ = tf.summary.scalar(\"dis_pic_loss_fake\", dis_pic_loss_fake)\n",
    "dis_pic_loss_summ = tf.summary.scalar(\"dis_pic_loss\", dis_pic_loss)\n",
    "dis_face_loss_real_summ = tf.summary.scalar(\"dis_face_loss_real\", dis_face_loss_real)\n",
    "dis_face_loss_fake_summ = tf.summary.scalar(\"dis_face_loss_fake\", dis_face_loss_fake)\n",
    "dis_face_loss_summ = tf.summary.scalar(\"dis_face_loss\", dis_face_loss)\n",
    "dis_loss_summ = tf.summary.scalar(\"dis_loss\", dis_loss)\n",
    "\n",
    "dis_summ =tf.summary.merge([dis_pic_loss_real_summ, dis_pic_loss_fake_summ,dis_pic_loss_summ, \n",
    "                          dis_face_loss_real_summ, dis_face_loss_fake_summ, dis_face_loss_summ,\n",
    "                         dis_loss_summ])\n",
    "\n",
    "###### Testing \n",
    "\n",
    "test_face = tf.placeholder(tf.float32, \n",
    "                          [None, height, width, 1], name='test_Face')\n",
    "test_pic = tf.placeholder(tf.float32, \n",
    "                          [None, height, width, 1], name='test_Pic')\n",
    "\n",
    "test_pic = generator_dense(test_face, reuse=True, name=\"generator_Face2Pic\")\n",
    "test_face = generator_dense(test_pic, reuse=True, name=\"generator_Pic2Face\")\n",
    "\n"
   ]
  },
  {
   "cell_type": "markdown",
   "metadata": {},
   "source": [
    "#### Train"
   ]
  },
  {
   "cell_type": "code",
   "execution_count": 9,
   "metadata": {
    "ExecuteTime": {
     "end_time": "2018-08-17T12:09:53.159761Z",
     "start_time": "2018-08-17T12:09:53.152570Z"
    }
   },
   "outputs": [],
   "source": [
    "lr = 0.001\n",
    "total_variables = tf.trainable_variables()\n",
    "dis_var = [var for var in total_variables if 'discriminator' in var.name]\n",
    "gen_var = [var for var in total_variables if 'generator' in var.name]\n",
    "\n",
    "epochs = 300\n",
    "\n",
    "## no batch-wise training\n",
    "\n",
    "## optimizers \n",
    "dis_op = tf.train.AdamOptimizer(learning_rate=lr).minimize(dis_loss, var_list=dis_var)\n",
    "gen_op = tf.train.AdamOptimizer(learning_rate=lr).minimize(gen_loss, var_list=gen_var)\n",
    "\n",
    "with tf.Session() as sess:\n",
    "    init_op = tf.global_variables_initializer()\n",
    "    sess.run(init_op)\n",
    "    writer = tf.summary.FileWriter(\"./logs\", sess.graph)\n",
    "    start_time = time.time()\n",
    "    counter = 1\n",
    "    \n",
    "    for epoch in range(epochs):\n",
    "        ## update Generator and record Fake images \n",
    "        fake_Face, fake_Pic, _, summary_str = sess.run(\n",
    "                                    [fake_face, fake_pic, gen_op, gen_summ], \n",
    "                                    feed_dic={face:real_images, pic:pic_images})\n",
    "        writer.add_summary(summary_str, counter)\n",
    "        \n",
    "        ## update Discriminator \n",
    "        \n",
    "        _, summary_str = sess.run(\n",
    "                                [dis_op, dis_summ],\n",
    "                            feed_dict={\n",
    "                                face:real_images,\n",
    "                                pic:pic_images,\n",
    "                                fake_face_sample:fake_Face,\n",
    "                                fake_pic_sample:fake_Pic})\n",
    "        writer.add_summary(summary_str, counter)\n",
    "        \n",
    "        counter += 1 \n",
    "        print(\"Epoch : {}/{}, time : {}, \".format(epoch, epochs, time.time() - start_time))\n",
    "        \n",
    "        if counter % 100 == 0 or counter == 1:\n",
    "            test_Face2Pic = sess.run(test_pic, feed_dict={test_face:real_images})\n",
    "            for img in test_Face2Pic:\n",
    "                plt.figure(figsize=(9,9))\n",
    "                plt.imshow(img.reshape(300, 300))\n",
    "                plt.show()\n",
    "    "
   ]
  },
  {
   "cell_type": "markdown",
   "metadata": {
    "ExecuteTime": {
     "end_time": "2018-08-17T12:10:04.873941Z",
     "start_time": "2018-08-17T12:10:04.865729Z"
    }
   },
   "source": [
    "#### Save"
   ]
  },
  {
   "cell_type": "code",
   "execution_count": 13,
   "metadata": {
    "ExecuteTime": {
     "end_time": "2018-08-17T12:17:43.523234Z",
     "start_time": "2018-08-17T12:17:43.416577Z"
    }
   },
   "outputs": [
    {
     "ename": "NameError",
     "evalue": "name 'os' is not defined",
     "output_type": "error",
     "traceback": [
      "\u001b[0;31m---------------------------------------------------------------------------\u001b[0m",
      "\u001b[0;31mNameError\u001b[0m                                 Traceback (most recent call last)",
      "\u001b[0;32m<ipython-input-13-673a633e8b6e>\u001b[0m in \u001b[0;36m<module>\u001b[0;34m()\u001b[0m\n\u001b[1;32m      2\u001b[0m \u001b[0mmodel_dir\u001b[0m \u001b[0;34m=\u001b[0m \u001b[0;34m\"./model\"\u001b[0m\u001b[0;34m\u001b[0m\u001b[0m\n\u001b[1;32m      3\u001b[0m \u001b[0;34m\u001b[0m\u001b[0m\n\u001b[0;32m----> 4\u001b[0;31m \u001b[0;32mif\u001b[0m \u001b[0;32mnot\u001b[0m \u001b[0mos\u001b[0m\u001b[0;34m.\u001b[0m\u001b[0mpath\u001b[0m\u001b[0;34m.\u001b[0m\u001b[0mexists\u001b[0m\u001b[0;34m(\u001b[0m\u001b[0mmodel_dir\u001b[0m\u001b[0;34m)\u001b[0m\u001b[0;34m:\u001b[0m\u001b[0;34m\u001b[0m\u001b[0m\n\u001b[0m\u001b[1;32m      5\u001b[0m     \u001b[0mos\u001b[0m\u001b[0;34m.\u001b[0m\u001b[0mmakedirs\u001b[0m\u001b[0;34m(\u001b[0m\u001b[0mmodel_dir\u001b[0m\u001b[0;34m)\u001b[0m\u001b[0;34m\u001b[0m\u001b[0m\n\u001b[1;32m      6\u001b[0m \u001b[0;34m\u001b[0m\u001b[0m\n",
      "\u001b[0;31mNameError\u001b[0m: name 'os' is not defined"
     ]
    }
   ],
   "source": [
    "model_name = \"Face_to_Pic.model\"\n",
    "model_dir = \"./model\"\n",
    "\n",
    "if not os.path.exists(model_dir):\n",
    "    os.makedirs(model_dir)\n",
    "    \n",
    "saver = tf.train.Saver()\n",
    "\n",
    "saver.save(sess, os.path.join(model_dir, model_name))\n",
    "\n"
   ]
  },
  {
   "cell_type": "code",
   "execution_count": null,
   "metadata": {},
   "outputs": [],
   "source": []
  },
  {
   "cell_type": "code",
   "execution_count": null,
   "metadata": {},
   "outputs": [],
   "source": []
  },
  {
   "cell_type": "code",
   "execution_count": null,
   "metadata": {},
   "outputs": [],
   "source": []
  },
  {
   "cell_type": "code",
   "execution_count": null,
   "metadata": {},
   "outputs": [],
   "source": []
  },
  {
   "cell_type": "code",
   "execution_count": null,
   "metadata": {},
   "outputs": [],
   "source": []
  },
  {
   "cell_type": "code",
   "execution_count": null,
   "metadata": {},
   "outputs": [],
   "source": []
  },
  {
   "cell_type": "code",
   "execution_count": null,
   "metadata": {},
   "outputs": [],
   "source": []
  },
  {
   "cell_type": "code",
   "execution_count": null,
   "metadata": {},
   "outputs": [],
   "source": []
  },
  {
   "cell_type": "code",
   "execution_count": null,
   "metadata": {},
   "outputs": [],
   "source": []
  },
  {
   "cell_type": "code",
   "execution_count": null,
   "metadata": {},
   "outputs": [],
   "source": []
  },
  {
   "cell_type": "code",
   "execution_count": null,
   "metadata": {},
   "outputs": [],
   "source": []
  },
  {
   "cell_type": "code",
   "execution_count": null,
   "metadata": {},
   "outputs": [],
   "source": []
  },
  {
   "cell_type": "code",
   "execution_count": null,
   "metadata": {},
   "outputs": [],
   "source": []
  },
  {
   "cell_type": "code",
   "execution_count": null,
   "metadata": {},
   "outputs": [],
   "source": []
  },
  {
   "cell_type": "code",
   "execution_count": null,
   "metadata": {},
   "outputs": [],
   "source": []
  },
  {
   "cell_type": "code",
   "execution_count": null,
   "metadata": {},
   "outputs": [],
   "source": []
  },
  {
   "cell_type": "code",
   "execution_count": null,
   "metadata": {},
   "outputs": [],
   "source": []
  },
  {
   "cell_type": "code",
   "execution_count": null,
   "metadata": {},
   "outputs": [],
   "source": []
  },
  {
   "cell_type": "code",
   "execution_count": null,
   "metadata": {},
   "outputs": [],
   "source": []
  },
  {
   "cell_type": "code",
   "execution_count": null,
   "metadata": {},
   "outputs": [],
   "source": []
  },
  {
   "cell_type": "code",
   "execution_count": null,
   "metadata": {},
   "outputs": [],
   "source": []
  },
  {
   "cell_type": "code",
   "execution_count": null,
   "metadata": {},
   "outputs": [],
   "source": []
  },
  {
   "cell_type": "code",
   "execution_count": null,
   "metadata": {},
   "outputs": [],
   "source": []
  },
  {
   "cell_type": "code",
   "execution_count": null,
   "metadata": {},
   "outputs": [],
   "source": []
  },
  {
   "cell_type": "code",
   "execution_count": null,
   "metadata": {},
   "outputs": [],
   "source": []
  },
  {
   "cell_type": "code",
   "execution_count": null,
   "metadata": {},
   "outputs": [],
   "source": []
  },
  {
   "cell_type": "code",
   "execution_count": null,
   "metadata": {},
   "outputs": [],
   "source": []
  },
  {
   "cell_type": "code",
   "execution_count": null,
   "metadata": {},
   "outputs": [],
   "source": []
  },
  {
   "cell_type": "code",
   "execution_count": null,
   "metadata": {},
   "outputs": [],
   "source": []
  },
  {
   "cell_type": "code",
   "execution_count": null,
   "metadata": {},
   "outputs": [],
   "source": []
  }
 ],
 "metadata": {
  "author": "",
  "kernelspec": {
   "display_name": "Python 3",
   "language": "python",
   "name": "python3"
  },
  "language_info": {
   "codemirror_mode": {
    "name": "ipython",
    "version": 3
   },
   "file_extension": ".py",
   "mimetype": "text/x-python",
   "name": "python",
   "nbconvert_exporter": "python",
   "pygments_lexer": "ipython3",
   "version": "3.6.4"
  },
  "latex_envs": {
   "LaTeX_envs_menu_present": true,
   "autoclose": false,
   "autocomplete": true,
   "bibliofile": "biblio.bib",
   "cite_by": "apalike",
   "current_citInitial": 1,
   "eqLabelWithNumbers": true,
   "eqNumInitial": 1,
   "hotkeys": {
    "equation": "Ctrl-E",
    "itemize": "Ctrl-I"
   },
   "labels_anchors": false,
   "latex_user_defs": false,
   "report_style_numbering": false,
   "user_envs_cfg": false
  },
  "toc": {
   "base_numbering": 1,
   "nav_menu": {},
   "number_sections": true,
   "sideBar": true,
   "skip_h1_title": false,
   "title_cell": "Table of Contents",
   "title_sidebar": "Contents",
   "toc_cell": false,
   "toc_position": {},
   "toc_section_display": true,
   "toc_window_display": false
  }
 },
 "nbformat": 4,
 "nbformat_minor": 2
}
