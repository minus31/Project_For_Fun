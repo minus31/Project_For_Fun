{
 "cells": [
  {
   "cell_type": "code",
   "execution_count": 1,
   "metadata": {
    "ExecuteTime": {
     "end_time": "2018-08-14T08:51:53.691217Z",
     "start_time": "2018-08-14T08:51:51.825230Z"
    }
   },
   "outputs": [
    {
     "name": "stderr",
     "output_type": "stream",
     "text": [
      "/Users/MAC/.pyenv/versions/anaconda3-5.0.1/envs/python_ana/lib/python3.6/site-packages/h5py/__init__.py:36: FutureWarning: Conversion of the second argument of issubdtype from `float` to `np.floating` is deprecated. In future, it will be treated as `np.float64 == np.dtype(float).type`.\n",
      "  from ._conv import register_converters as _register_converters\n"
     ]
    },
    {
     "ename": "ModuleNotFoundError",
     "evalue": "No module named 'Ops'",
     "output_type": "error",
     "traceback": [
      "\u001b[0;31m---------------------------------------------------------------------------\u001b[0m",
      "\u001b[0;31mModuleNotFoundError\u001b[0m                       Traceback (most recent call last)",
      "\u001b[0;32m<ipython-input-1-2383ecaaa9d0>\u001b[0m in \u001b[0;36m<module>\u001b[0;34m()\u001b[0m\n\u001b[1;32m      1\u001b[0m \u001b[0;32mfrom\u001b[0m \u001b[0m__future__\u001b[0m \u001b[0;32mimport\u001b[0m \u001b[0mdivision\u001b[0m\u001b[0;34m\u001b[0m\u001b[0m\n\u001b[1;32m      2\u001b[0m \u001b[0;32mimport\u001b[0m \u001b[0mtensorflow\u001b[0m \u001b[0;32mas\u001b[0m \u001b[0mtf\u001b[0m\u001b[0;34m\u001b[0m\u001b[0m\n\u001b[0;32m----> 3\u001b[0;31m \u001b[0;32mfrom\u001b[0m \u001b[0mOps\u001b[0m \u001b[0;32mimport\u001b[0m \u001b[0;34m*\u001b[0m\u001b[0;34m\u001b[0m\u001b[0m\n\u001b[0m",
      "\u001b[0;31mModuleNotFoundError\u001b[0m: No module named 'Ops'"
     ]
    }
   ],
   "source": [
    "from __future__ import division\n",
    "import tensorflow as tf\n",
    "from Ops import *"
   ]
  },
  {
   "cell_type": "markdown",
   "metadata": {},
   "source": [
    "####  discriminator \n",
    "\n",
    "- Q1. why discriminator's output is 32x32x1 \n",
    "> I thought discriminator has a role of discriminating fake or real with 0, 1 each.\n",
    "> is it technic ? \n",
    "\n",
    ">> **This Answer was writen on the paper**\n",
    ">> - by implementing, reserchers dose Johnson 's Residual architecture which is known as very productive on style transfering problem for generator, and use **PatchGAN**'s discriminator \n",
    "\n",
    "\n",
    "###### PatchGAN research \n",
    "\n",
    " > blah blah\n",
    " "
   ]
  },
  {
   "cell_type": "code",
   "execution_count": null,
   "metadata": {},
   "outputs": [],
   "source": [
    "\n",
    "def discriminator(image, output_dim=8, reuse=False, name=\"discriminator\"):\n",
    "    with tf.variable_scope(name):\n",
    "        if reuse \n",
    "            tf.get_variable_scope().reuse_variables()\n",
    "        else :\n",
    "            assert tf.get_variable_scope().reuse is False\n",
    "        # h0 is (150 x 150 x self.df_dim)\n",
    "        h0 = leaky_relu(conv2d(image, output_dim, name='dis_h0_conv'))\n",
    "        # h1 is (75 x 75 x self.df_dim*2)\n",
    "        h1 = lrelu(instance_norm(conv2d(h0, output_dim*2, name='d_h1_conv'), 'd_in1'))\n",
    "        # h2 is (36 x 36 x self.df_dim*4)\n",
    "        h2 = lrelu(instance_norm(conv2d(h1, output_dim*4, name='d_h2_conv'), 'd_in2'))\n",
    "        # h3 is (36 x 36 x self.df_dim*8)\n",
    "        h3 = lrelu(instance_norm(conv2d(h2, output_dim*8, stride=1, name='d_h3_conv'), 'd_in3'))\n",
    "        # h4 is (36 x 36 x 1)\n",
    "        h4 = conv2d(h3, 1, stride=1, name='d_h3_pred')\n",
    "\n",
    "        return h4"
   ]
  },
  {
   "cell_type": "code",
   "execution_count": null,
   "metadata": {},
   "outputs": [],
   "source": [
    "def generator_dense(image, reuse=False, name=\"generator\"):\n",
    "    with tf.variable_scope(name):\n",
    "        # image = 300x300x1\n",
    "        \n",
    "        if reuse:\n",
    "            tf.get_variable_scope().reuse_variables()\n",
    "        else:\n",
    "            assert tf.get_variable_scope().reuse is False\n",
    "            \n",
    "        def dense_block(x, growth_rate=8, num_layers_in_block=6, name=\"dense\"):\n",
    "            \n",
    "            for i in range(num_layers_in_block):    \n",
    "                y1 = instance_norm(conv2d(x, growth_rate*2, \n",
    "                                          kernel_size=1, stride=1, \n",
    "                                          padding='SAME', \n",
    "                                          name=name+'_bot{}'.format(i)), name+'_in1{}'.format(i))\n",
    "                y2 = instance_norm(conv2d(y1, growth_rate, \n",
    "                                          kernel_size=3, stride=1, \n",
    "                                          padding='SAME', \n",
    "                                          name=name+'_tle{}'.format(i)), name+'_in2{}'.format(i))\n",
    "                x = tf.concat(y2, x)\n",
    "                \n",
    "                return x \n",
    "                \n",
    "                \n",
    "        dense_layer_1 = dense_block(image, name=\"dense_1\")\n",
    "        \n",
    "        # Maintaing Feature map size , Reduce # of channels  \n",
    "        transition_layer = instance_norm(conv2d(dense_layer_1, 1, \n",
    "                                          kernel_size=3, stride=1, \n",
    "                                          padding='SAME', \n",
    "                                          name=name+'_transition1'), name+'_in1')\n",
    "        \n",
    "        dense_layer_2 = dense_block(transition_layer, name=\"dense_2\")\n",
    "        \n",
    "        \n",
    "        output_layer = instance_norm(conv2d(dense_layer_2, 1, \n",
    "                                          kernel_size=3, stride=1, \n",
    "                                          padding='SAME', \n",
    "                                          name=name+'_out'), name+'_in_out')\n",
    "        \n",
    "        \n",
    "        return output_layer\n"
   ]
  },
  {
   "cell_type": "code",
   "execution_count": null,
   "metadata": {},
   "outputs": [],
   "source": [
    "def abs_criterion(in_, target):\n",
    "    return tf.reduce_mean(tf.abs(in_ - target))\n",
    "\n",
    "\n",
    "def mse_criterion(in_, target):\n",
    "    return tf.reduce_mean((in_-target)**2)\n",
    "\n",
    "\n",
    "def sce_criterion(logits, labels):\n",
    "    return tf.reduce_mean(tf.nn.sigmoid_cross_entropy_with_logits(logits=logits, labels=labels))\n",
    "        "
   ]
  },
  {
   "cell_type": "code",
   "execution_count": null,
   "metadata": {},
   "outputs": [],
   "source": []
  }
 ],
 "metadata": {
  "kernelspec": {
   "display_name": "Python 3",
   "language": "python",
   "name": "python3"
  },
  "language_info": {
   "codemirror_mode": {
    "name": "ipython",
    "version": 3
   },
   "file_extension": ".py",
   "mimetype": "text/x-python",
   "name": "python",
   "nbconvert_exporter": "python",
   "pygments_lexer": "ipython3",
   "version": "3.6.4"
  },
  "latex_envs": {
   "LaTeX_envs_menu_present": true,
   "autoclose": false,
   "autocomplete": true,
   "bibliofile": "biblio.bib",
   "cite_by": "apalike",
   "current_citInitial": 1,
   "eqLabelWithNumbers": true,
   "eqNumInitial": 1,
   "hotkeys": {
    "equation": "Ctrl-E",
    "itemize": "Ctrl-I"
   },
   "labels_anchors": false,
   "latex_user_defs": false,
   "report_style_numbering": false,
   "user_envs_cfg": false
  },
  "toc": {
   "base_numbering": 1,
   "nav_menu": {},
   "number_sections": true,
   "sideBar": true,
   "skip_h1_title": false,
   "title_cell": "Table of Contents",
   "title_sidebar": "Contents",
   "toc_cell": false,
   "toc_position": {},
   "toc_section_display": true,
   "toc_window_display": false
  }
 },
 "nbformat": 4,
 "nbformat_minor": 2
}
