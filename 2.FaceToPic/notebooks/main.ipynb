{
 "cells": [
  {
   "cell_type": "code",
   "execution_count": 1,
   "metadata": {
    "ExecuteTime": {
     "end_time": "2018-08-08T04:28:16.567642Z",
     "start_time": "2018-08-08T04:28:14.899848Z"
    }
   },
   "outputs": [
    {
     "name": "stderr",
     "output_type": "stream",
     "text": [
      "/Users/MAC/.pyenv/versions/anaconda3-5.0.1/envs/python_ana/lib/python3.6/site-packages/h5py/__init__.py:36: FutureWarning: Conversion of the second argument of issubdtype from `float` to `np.floating` is deprecated. In future, it will be treated as `np.float64 == np.dtype(float).type`.\n",
      "  from ._conv import register_converters as _register_converters\n"
     ]
    }
   ],
   "source": [
    "import numpy as np \n",
    "import pandas as pd\n",
    "import matplotlib.pyplot as plt\n",
    "import cv2\n",
    "import glob\n",
    "import pickle \n",
    "import tensorflow as tf \n",
    "from IPython.display import display \n",
    "pd.options.display.max_columns = None\n",
    "pd.options.display.max_rows = None\n",
    "%matplotlib inline\n",
    "%config  InlineBackend.figure_formats = {'png', 'retina'}\n",
    "sns.set_style(\"white\")"
   ]
  },
  {
   "cell_type": "code",
   "execution_count": null,
   "metadata": {},
   "outputs": [],
   "source": [
    "pic_path = \"../Dataset/tfrecord/pictogram.tfrecord\"\n",
    "real_path = \"../Dataset/tfrecord/real_image.tfrecord\""
   ]
  },
  {
   "cell_type": "code",
   "execution_count": null,
   "metadata": {},
   "outputs": [],
   "source": [
    "reconstructed_images = []\n",
    "reconstructed_sexes = []\n",
    "\n",
    "record_iterator = tf.python_io.tf_record_iterator(path=real_path)\n",
    "i = 0 \n",
    "for string_record in record_iterator:\n",
    "    example = tf.train.Example()\n",
    "    example.ParseFromString(string_record)\n",
    "    \n",
    "    height = int(example.features.feature['height']\n",
    "                                 .int64_list\n",
    "                                 .value[0])\n",
    "    \n",
    "    width = int(example.features.feature['width']\n",
    "                                .int64_list\n",
    "                                .value[0])\n",
    "    \n",
    "    img_string = (example.features.feature['gray_img_bytes']\n",
    "                                  .bytes_list\n",
    "                                  .value[0])\n",
    "    \n",
    "    sex = float(example.features.feature['sex']\n",
    "                                .float_list\n",
    "                                .value[0])\n",
    "    \n",
    "    img_1d = np.frombuffer(img_string, dtype=np.uint8)\n",
    "    reconstructed_img = img_1d.reshape((height, width, -1))\n",
    "    # 마지막 axis에 7개의 0이 추가 된다. \n",
    "    reconstructed_img = np.amax(reconstructed_img, axis=-1)\n",
    "    \n",
    "    reconstructed_images.append(reconstructed_img)\n",
    "    reconstructed_sexes.append(sex)\n",
    "    \n",
    "    if i in random_display:\n",
    "        print(list(map(lambda x: \"male\" if x == 0.0 else \"female\", [sex])))\n",
    "        plt.figure(figsize=(9,9))\n",
    "        plt.axis(\"off\")\n",
    "        plt.imshow(reconstructed_img, cmap=\"gray\")\n",
    "        plt.show()\n",
    "    i += 1"
   ]
  },
  {
   "cell_type": "code",
   "execution_count": null,
   "metadata": {},
   "outputs": [],
   "source": []
  },
  {
   "cell_type": "code",
   "execution_count": null,
   "metadata": {},
   "outputs": [],
   "source": []
  },
  {
   "cell_type": "code",
   "execution_count": null,
   "metadata": {},
   "outputs": [],
   "source": []
  }
 ],
 "metadata": {
  "kernelspec": {
   "display_name": "Python 3",
   "language": "python",
   "name": "python3"
  },
  "language_info": {
   "codemirror_mode": {
    "name": "ipython",
    "version": 3
   },
   "file_extension": ".py",
   "mimetype": "text/x-python",
   "name": "python",
   "nbconvert_exporter": "python",
   "pygments_lexer": "ipython3",
   "version": "3.6.4"
  },
  "latex_envs": {
   "LaTeX_envs_menu_present": true,
   "autoclose": false,
   "autocomplete": true,
   "bibliofile": "biblio.bib",
   "cite_by": "apalike",
   "current_citInitial": 1,
   "eqLabelWithNumbers": true,
   "eqNumInitial": 1,
   "hotkeys": {
    "equation": "Ctrl-E",
    "itemize": "Ctrl-I"
   },
   "labels_anchors": false,
   "latex_user_defs": false,
   "report_style_numbering": false,
   "user_envs_cfg": false
  },
  "toc": {
   "base_numbering": 1,
   "nav_menu": {},
   "number_sections": true,
   "sideBar": true,
   "skip_h1_title": false,
   "title_cell": "Table of Contents",
   "title_sidebar": "Contents",
   "toc_cell": false,
   "toc_position": {},
   "toc_section_display": true,
   "toc_window_display": false
  }
 },
 "nbformat": 4,
 "nbformat_minor": 2
}
